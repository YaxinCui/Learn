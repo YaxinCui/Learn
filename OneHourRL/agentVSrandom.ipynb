{
 "cells": [
  {
   "cell_type": "code",
   "execution_count": 1,
   "metadata": {},
   "outputs": [],
   "source": [
    "\n",
    "from Agents import SmartAgent"
   ]
  },
  {
   "cell_type": "code",
   "execution_count": 2,
   "metadata": {},
   "outputs": [],
   "source": [
    "\n",
    "# 1. 初始化棋盘"
   ]
  },
  {
   "cell_type": "code",
   "execution_count": 3,
   "metadata": {},
   "outputs": [],
   "source": [
    "import numpy as np"
   ]
  },
  {
   "cell_type": "code",
   "execution_count": 4,
   "metadata": {},
   "outputs": [],
   "source": [
    "def printState(state):\n",
    "    state = state.astype(int)\n",
    "    print(state[0:3])\n",
    "    print(state[3:6])\n",
    "    print(state[6:9])\n",
    "    print()\n",
    "\n",
    "\n",
    "def isEndState(state):\n",
    "    # 如果棋局没有结束，就返回0\n",
    "    # 如果1赢了，就返回1\n",
    "    # 如果2赢了，就返回2\n",
    "    # 如果平局，返回-1\n",
    "\n",
    "    # 横着的出现3个\n",
    "    state = state.astype(int)\n",
    "    for i in [0, 3, 6]:\n",
    "        if state[i] and state[i]==state[i+1] and state[i+1]==state[i+2]:\n",
    "            return state[i]\n",
    "        \n",
    "    # 竖着的出现3个\n",
    "    for i in [0, 1, 2]:\n",
    "        if state[i] and state[i]==state[i+3*1] and state[i+3*1]==state[i+3*2]:\n",
    "            return state[i]\n",
    "    \n",
    "    # 斜着的\n",
    "    if state[0] and state[0]==state[4] and state[0]==state[8]:\n",
    "        return state[4]\n",
    "    \n",
    "    if state[2] and state[2]==state[4] and state[4]==state[6]:\n",
    "        return state[4]\n",
    "    \n",
    "    for qizi in state:\n",
    "        if qizi==0:#棋局没有结束\n",
    "            return 0\n",
    "        \n",
    "    return -1\n"
   ]
  },
  {
   "cell_type": "code",
   "execution_count": 5,
   "metadata": {},
   "outputs": [],
   "source": [
    "state=np.zeros(9)"
   ]
  },
  {
   "cell_type": "code",
   "execution_count": 6,
   "metadata": {},
   "outputs": [],
   "source": [
    "state[0]=2\n",
    "state[1]=2\n",
    "state[4]=2\n",
    "state[5]=2\n",
    "state[6]=2\n",
    "\n",
    "state[2]=1\n",
    "state[3]=1\n",
    "state[7]=1\n",
    "state[8]=1"
   ]
  },
  {
   "cell_type": "code",
   "execution_count": 7,
   "metadata": {},
   "outputs": [
    {
     "data": {
      "text/plain": [
       "-1"
      ]
     },
     "execution_count": 7,
     "metadata": {},
     "output_type": "execute_result"
    }
   ],
   "source": [
    "isEndState(state)"
   ]
  },
  {
   "cell_type": "code",
   "execution_count": 8,
   "metadata": {},
   "outputs": [],
   "source": [
    "agent1 = SmartAgent(OOXX_index=1)\n"
   ]
  },
  {
   "cell_type": "code",
   "execution_count": 9,
   "metadata": {},
   "outputs": [
    {
     "name": "stdout",
     "output_type": "stream",
     "text": [
      "84855\n"
     ]
    }
   ],
   "source": [
    "winNum=0\n",
    "for epoch in range(100000):\n",
    "    # 10局\n",
    "    round = True\n",
    "    agent1.reset()\n",
    "\n",
    "    \n",
    "    while not isEndState(agent1.currentState):\n",
    "        # 棋局没有结束，继续下棋\n",
    "\n",
    "        if round: # agent1下\n",
    "            round = not round\n",
    "\n",
    "            actionState = agent1.actionTake(agent1.currentState)\n",
    "            \n",
    "            if isEndState(actionState)==1:\n",
    "                # 如果赢棋了，所选动作导致的状态函数价值+10\n",
    "                agent1.value[tuple(actionState.astype(int))] += 10\n",
    "                winNum += 1\n",
    "            agent1.valueUpdate(actionState)\n",
    "\n",
    "            #if epoch%10000==0:\n",
    "            # printState(agent1.currentState)\n",
    "\n",
    "\n",
    "        else:#随机agent下\n",
    "            round = not round\n",
    "\n",
    "            available = np.where(agent1.currentState==0)[0]\n",
    "            length = len(available)\n",
    "            choose = np.random.randint(length)\n",
    "            agent1.currentState[available[choose]] = 2\n",
    "            #printState(agent1.currentState)\n",
    "\n",
    "    \n",
    "    #if epoch%10000==0:\n",
    "    # print('-'*20)\n",
    "\n",
    "\n",
    "print(winNum)\n",
    "# 10万次，赢了84855次"
   ]
  },
  {
   "cell_type": "code",
   "execution_count": 15,
   "metadata": {},
   "outputs": [],
   "source": [
    "agent1.reset()\n",
    "agent1.epsilon=0"
   ]
  },
  {
   "cell_type": "code",
   "execution_count": null,
   "metadata": {},
   "outputs": [],
   "source": []
  },
  {
   "cell_type": "code",
   "execution_count": 32,
   "metadata": {},
   "outputs": [],
   "source": [
    "agent1.currentState = agent1.actionTake(agent1.currentState)"
   ]
  },
  {
   "cell_type": "code",
   "execution_count": 33,
   "metadata": {},
   "outputs": [
    {
     "name": "stdout",
     "output_type": "stream",
     "text": [
      "[2 1 1]\n",
      "[1 2 2]\n",
      "[1 2 1]\n",
      "\n"
     ]
    }
   ],
   "source": [
    "printState(agent1.currentState)"
   ]
  },
  {
   "cell_type": "code",
   "execution_count": 30,
   "metadata": {},
   "outputs": [],
   "source": [
    "available = np.where(agent1.currentState==0)[0]\n",
    "length = len(available)\n",
    "choose = np.random.randint(length)\n",
    "agent1.currentState[available[choose]] = 2"
   ]
  },
  {
   "cell_type": "code",
   "execution_count": 31,
   "metadata": {},
   "outputs": [
    {
     "name": "stdout",
     "output_type": "stream",
     "text": [
      "[2 0 1]\n",
      "[1 2 2]\n",
      "[1 2 1]\n",
      "\n"
     ]
    }
   ],
   "source": [
    "printState(agent1.currentState)"
   ]
  },
  {
   "cell_type": "code",
   "execution_count": null,
   "metadata": {},
   "outputs": [],
   "source": []
  }
 ],
 "metadata": {
  "kernelspec": {
   "display_name": "Python 3",
   "language": "python",
   "name": "python3"
  },
  "language_info": {
   "codemirror_mode": {
    "name": "ipython",
    "version": 3
   },
   "file_extension": ".py",
   "mimetype": "text/x-python",
   "name": "python",
   "nbconvert_exporter": "python",
   "pygments_lexer": "ipython3",
   "version": "3.8.9"
  }
 },
 "nbformat": 4,
 "nbformat_minor": 2
}
