{
 "cells": [
  {
   "cell_type": "code",
   "execution_count": 1,
   "metadata": {},
   "outputs": [],
   "source": [
    "\n",
    "from Agents import SmartAgent"
   ]
  },
  {
   "cell_type": "code",
   "execution_count": 2,
   "metadata": {},
   "outputs": [],
   "source": [
    "\n",
    "# 1. 初始化棋盘"
   ]
  },
  {
   "cell_type": "code",
   "execution_count": 3,
   "metadata": {},
   "outputs": [],
   "source": [
    "import numpy as np"
   ]
  },
  {
   "cell_type": "code",
   "execution_count": 4,
   "metadata": {},
   "outputs": [],
   "source": [
    "def printState(state):\n",
    "    state = state.astype(int)\n",
    "    print(state[0:3])\n",
    "    print(state[3:6])\n",
    "    print(state[6:9])\n",
    "    print()\n",
    "\n",
    "\n",
    "def isEndState(state):\n",
    "    # 如果棋局没有结束，就返回0\n",
    "    # 如果1赢了，就返回1\n",
    "    # 如果2赢了，就返回2\n",
    "    # 如果平局，返回-1\n",
    "\n",
    "    # 横着的出现3个\n",
    "    state = state.astype(int)\n",
    "    for i in [0, 3, 6]:\n",
    "        if state[i] and state[i]==state[i+1] and state[i+1]==state[i+2]:\n",
    "            return state[i]\n",
    "        \n",
    "    # 竖着的出现3个\n",
    "    for i in [0, 1, 2]:\n",
    "        if state[i] and state[i]==state[i+3*1] and state[i+3*1]==state[i+3*2]:\n",
    "            return state[i]\n",
    "    \n",
    "    # 斜着的\n",
    "    if state[0] and state[0]==state[4] and state[0]==state[8]:\n",
    "        return state[4]\n",
    "    \n",
    "    if state[2] and state[2]==state[4] and state[4]==state[6]:\n",
    "        return state[4]\n",
    "    \n",
    "    for qizi in state:\n",
    "        if qizi==0:#棋局没有结束\n",
    "            return 0\n",
    "        \n",
    "    return -1\n"
   ]
  },
  {
   "cell_type": "code",
   "execution_count": 5,
   "metadata": {},
   "outputs": [],
   "source": [
    "state=np.zeros(9)"
   ]
  },
  {
   "cell_type": "code",
   "execution_count": 6,
   "metadata": {},
   "outputs": [],
   "source": [
    "state[0]=2\n",
    "state[1]=2\n",
    "state[4]=2\n",
    "state[5]=2\n",
    "state[6]=2\n",
    "\n",
    "state[2]=1\n",
    "state[3]=1\n",
    "state[7]=1\n",
    "state[8]=1"
   ]
  },
  {
   "cell_type": "code",
   "execution_count": 7,
   "metadata": {},
   "outputs": [
    {
     "data": {
      "text/plain": [
       "-1"
      ]
     },
     "execution_count": 7,
     "metadata": {},
     "output_type": "execute_result"
    }
   ],
   "source": [
    "isEndState(state)"
   ]
  },
  {
   "cell_type": "code",
   "execution_count": 8,
   "metadata": {},
   "outputs": [],
   "source": [
    "agent1 = SmartAgent(OOXX_index=1, Epsilon=0.2)\n",
    "agent2 = SmartAgent(OOXX_index=2, Epsilon=0.2)\n"
   ]
  },
  {
   "cell_type": "markdown",
   "metadata": {},
   "source": [
    "agent1.epsilon=0\n",
    "agent2.epsilon=0\n"
   ]
  },
  {
   "cell_type": "code",
   "execution_count": 9,
   "metadata": {},
   "outputs": [
    {
     "name": "stdout",
     "output_type": "stream",
     "text": [
      "265800\n",
      "112630\n"
     ]
    }
   ],
   "source": [
    "win1Num=0\n",
    "win2Num=0\n",
    "for epoch in range(400000):\n",
    "    # 10局\n",
    "    round = True\n",
    "    agent1.reset()\n",
    "    agent2.reset()\n",
    "\n",
    "    \n",
    "    vsState = agent1.currentState\n",
    "\n",
    "    while not isEndState(agent1.currentState):\n",
    "        # 棋局没有结束，继续下棋\n",
    "\n",
    "        if round: # agent1下\n",
    "            round = not round\n",
    "\n",
    "            vsState = agent1.actionTake(vsState)\n",
    "            \n",
    "            if isEndState(vsState)==1:\n",
    "                # 如果赢棋了，所选动作导致的状态函数价值+10\n",
    "                agent1.value[tuple(vsState.astype(int))] += 20\n",
    "                win1Num += 1\n",
    "                break\n",
    "            agent1.valueUpdate(vsState)\n",
    "\n",
    "\n",
    "        else:#agent2下\n",
    "            round = not round\n",
    "            vsState = agent2.actionTake(vsState)\n",
    "            \n",
    "            if isEndState(vsState)==2:\n",
    "                # 如果赢棋了，所选动作导致的状态函数价值+10\n",
    "                agent2.value[tuple(vsState.astype(int))] += 20\n",
    "                win2Num += 1\n",
    "                break\n",
    "            agent2.valueUpdate(vsState)\n",
    "\n",
    "    \n",
    "    #if epoch%10000==0:\n",
    "    # print('-'*20)\n",
    "\n",
    "\n",
    "print(win1Num)\n",
    "print(win2Num)\n"
   ]
  },
  {
   "cell_type": "code",
   "execution_count": 10,
   "metadata": {},
   "outputs": [],
   "source": [
    "agent1.epsilon=0\n",
    "agent2.epsilon=0"
   ]
  },
  {
   "cell_type": "code",
   "execution_count": 11,
   "metadata": {},
   "outputs": [],
   "source": [
    "agent1.reset()\n",
    "agent2.reset()"
   ]
  },
  {
   "cell_type": "code",
   "execution_count": 24,
   "metadata": {},
   "outputs": [],
   "source": [
    "agent1.currentState = agent1.actionTake(agent2.currentState)"
   ]
  },
  {
   "cell_type": "code",
   "execution_count": 25,
   "metadata": {},
   "outputs": [
    {
     "name": "stdout",
     "output_type": "stream",
     "text": [
      "[1 2 0]\n",
      "[2 2 0]\n",
      "[1 1 1]\n",
      "\n"
     ]
    }
   ],
   "source": [
    "printState(agent1.currentState)"
   ]
  },
  {
   "cell_type": "code",
   "execution_count": 22,
   "metadata": {},
   "outputs": [],
   "source": [
    "agent2.currentState = agent2.actionTake(agent1.currentState)"
   ]
  },
  {
   "cell_type": "markdown",
   "metadata": {},
   "source": []
  },
  {
   "cell_type": "code",
   "execution_count": 23,
   "metadata": {},
   "outputs": [
    {
     "name": "stdout",
     "output_type": "stream",
     "text": [
      "[1 2 0]\n",
      "[2 2 0]\n",
      "[1 1 0]\n",
      "\n"
     ]
    }
   ],
   "source": [
    "printState(agent2.currentState)"
   ]
  },
  {
   "cell_type": "markdown",
   "metadata": {},
   "source": [
    "如果有些状态不是整数怎么办\n",
    "\n",
    "很多状态难以搜索怎么办"
   ]
  },
  {
   "cell_type": "code",
   "execution_count": null,
   "metadata": {},
   "outputs": [],
   "source": []
  }
 ],
 "metadata": {
  "kernelspec": {
   "display_name": "Python 3",
   "language": "python",
   "name": "python3"
  },
  "language_info": {
   "codemirror_mode": {
    "name": "ipython",
    "version": 3
   },
   "file_extension": ".py",
   "mimetype": "text/x-python",
   "name": "python",
   "nbconvert_exporter": "python",
   "pygments_lexer": "ipython3",
   "version": "3.8.9"
  }
 },
 "nbformat": 4,
 "nbformat_minor": 2
}
